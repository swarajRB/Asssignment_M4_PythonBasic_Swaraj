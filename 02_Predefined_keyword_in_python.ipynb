{
 "cells": [
  {
   "cell_type": "markdown",
   "metadata": {},
   "source": [
    "# Q 2. Describe the role of predefined keywords in Python and provide examples of how they are used in a programming."
   ]
  },
  {
   "cell_type": "markdown",
   "metadata": {},
   "source": [
    "Predefined keywords in Python are reserved words that have special meanings and purposes in the language. They are used to define the syntax and structure of the Python language .\n",
    "\n",
    "They are reserved words with specific meanings and functions that power the language's core functionality.\n",
    "as thay are reserved Keywords they cannot be used as identifiers like variable names, function names and etc  because they are reserved for their spectiial functions"
   ]
  },
  {
   "cell_type": "code",
   "execution_count": 1,
   "metadata": {},
   "outputs": [
    {
     "name": "stdout",
     "output_type": "stream",
     "text": [
      "\n",
      "Here is a list of the Python keywords.  Enter any keyword to get more help.\n",
      "\n",
      "False               class               from                or\n",
      "None                continue            global              pass\n",
      "True                def                 if                  raise\n",
      "and                 del                 import              return\n",
      "as                  elif                in                  try\n",
      "assert              else                is                  while\n",
      "async               except              lambda              with\n",
      "await               finally             nonlocal            yield\n",
      "break               for                 not                 \n",
      "\n"
     ]
    }
   ],
   "source": [
    "# here we can get a look about all the keywords in python\n",
    "help(\"keywords\")\n",
    "\n",
    "# Here is a list of the Python keywords.\n",
    "\n",
    "# False               class               from                or\n",
    "# None                continue            global              pass\n",
    "# True                def                 if                  raise\n",
    "# and                 del                 import              return\n",
    "# as                  elif                in                  try\n",
    "# assert              else                is                  while\n",
    "# async               except              lambda              with\n",
    "# await               finally             nonlocal            yield\n",
    "# break               for                 not                 \n",
    "\n"
   ]
  },
  {
   "cell_type": "markdown",
   "metadata": {},
   "source": [
    "True and False are predefined keywords representing the two Boolean values. They are used in logical operations,\n",
    "\n"
   ]
  },
  {
   "cell_type": "code",
   "execution_count": 2,
   "metadata": {},
   "outputs": [
    {
     "name": "stdout",
     "output_type": "stream",
     "text": [
      "True\n",
      "False\n"
     ]
    }
   ],
   "source": [
    "# example of true and false bool\n",
    "\n",
    "a = 2\n",
    "b = 5\n",
    "print(a<b) # this will print True because 2 is less than 5 \n",
    "\n",
    "print(a>b) # this will print False because 2 is not greater than 5\n",
    "# this is the example by comparision  \n"
   ]
  },
  {
   "cell_type": "markdown",
   "metadata": {},
   "source": [
    "\"and\"\tThis is a logical operator which returns true if both the operands are true else returns false.\n",
    "\n",
    "\"or\"\tThis is also a logical operator which returns true if anyone operand is true else returns false.\n",
    "\n",
    "\"not\"\tThis is again a logical operator it returns True if the operand is false else returns false."
   ]
  },
  {
   "cell_type": "code",
   "execution_count": 3,
   "metadata": {},
   "outputs": [
    {
     "name": "stdout",
     "output_type": "stream",
     "text": [
      "True\n",
      "True\n",
      "False\n"
     ]
    }
   ],
   "source": [
    "\n",
    "# compare two operands using \"and\" operator\n",
    "print(True and True) \n",
    "# this will print True \n",
    "\n",
    "\n",
    "# compare two operands using \"or\" operator\n",
    "print(True or False) \n",
    "# this will also print True\n",
    "\n",
    "\n",
    "# use of \"not\" operator\n",
    "print(not True) # this print False\n"
   ]
  },
  {
   "cell_type": "markdown",
   "metadata": {},
   "source": [
    "\"if\"\tThis is used to make a conditional statement.\n",
    "\n",
    "\n",
    "\"elif\"\tElif is a condition statement used with an if statement. The elif statement is executed if the previous conditions were not true.\n",
    "\n",
    "\"else\"\tElse is used with if and elif conditional statements. The else block is executed if the given condition is not true."
   ]
  },
  {
   "cell_type": "code",
   "execution_count": 4,
   "metadata": {},
   "outputs": [
    {
     "name": "stdout",
     "output_type": "stream",
     "text": [
      "Adult\n"
     ]
    }
   ],
   "source": [
    "# just a simple example of \"if\", \"elif\" and else\" in one \n",
    "age = 56\n",
    "\n",
    "if age < 13:\n",
    "    print(\"Child\") # If age is less than 13, print \"Child\"\n",
    "\n",
    "elif 13 <= age < 20:\n",
    "    print(\"Teenager\") # If age is between 13 and 19, print \"Teenager\"\n",
    "\n",
    "else: # If age is 20 or above, print \"Adult\"\n",
    "\n",
    "    print(\"Adult\")\n"
   ]
  },
  {
   "cell_type": "markdown",
   "metadata": {},
   "source": [
    "\"for\"\tThis is used to create a loop.\n",
    "\n",
    "\"while\"\tThis keyword is used to create a while loop.\n",
    "\n",
    "\"break\"\tThis is used to terminate the loop."
   ]
  },
  {
   "cell_type": "code",
   "execution_count": 5,
   "metadata": {},
   "outputs": [
    {
     "name": "stdout",
     "output_type": "stream",
     "text": [
      "0\n",
      "1\n",
      "2\n",
      "3\n",
      "4\n"
     ]
    }
   ],
   "source": [
    "# Example of \"for\" \n",
    "\n",
    "for i in range(5): #create a loop \n",
    "    print(i)  # Print each number from 0 to 4\n"
   ]
  },
  {
   "cell_type": "code",
   "execution_count": 6,
   "metadata": {},
   "outputs": [
    {
     "name": "stdout",
     "output_type": "stream",
     "text": [
      "0\n",
      "1\n",
      "2\n",
      "3\n",
      "4\n"
     ]
    }
   ],
   "source": [
    "# Example of \"while\" \n",
    "\n",
    "\n",
    "i = 0 # giving the value of i\n",
    "\n",
    "while i < 5: # Loop while i is less than 5\n",
    "\n",
    "    print(i)  # Print current value of i\n",
    "    i += 1    # increase i by 1\n"
   ]
  },
  {
   "cell_type": "code",
   "execution_count": 7,
   "metadata": {},
   "outputs": [
    {
     "name": "stdout",
     "output_type": "stream",
     "text": [
      "0\n",
      "1\n",
      "2\n",
      "3\n",
      "4\n"
     ]
    }
   ],
   "source": [
    "# example of break\n",
    "\n",
    "for i in range(10): # Iterate over a range of numbers from 0 to 9\n",
    "    \n",
    "    if i == 5: # If i equals 5, exit the loop\n",
    "        break\n",
    "    print(i)  # Print each number until 5\n"
   ]
  },
  {
   "cell_type": "markdown",
   "metadata": {},
   "source": [
    " \"in\" It used to check whether a value is present in a list, range, tuple, etc.\n",
    "\n",
    " \n",
    " \"not in \" it is used to cheack whather is not presnt in string tuple list"
   ]
  },
  {
   "cell_type": "code",
   "execution_count": 8,
   "metadata": {},
   "outputs": [
    {
     "name": "stdout",
     "output_type": "stream",
     "text": [
      "True\n",
      "False\n"
     ]
    }
   ],
   "source": [
    "name = \"Swaraj\"\n",
    "\n",
    "print (\"S\" in name) # it will give the value as as True becoz \"S\" is presnt in name\n",
    "\n",
    "print(\"a\" not in name) # it will givw False because \"a\" is present in name"
   ]
  },
  {
   "cell_type": "markdown",
   "metadata": {},
   "source": [
    "There are many other keyword present in python "
   ]
  },
  {
   "cell_type": "markdown",
   "metadata": {},
   "source": []
  }
 ],
 "metadata": {
  "kernelspec": {
   "display_name": "Python 3",
   "language": "python",
   "name": "python3"
  },
  "language_info": {
   "codemirror_mode": {
    "name": "ipython",
    "version": 3
   },
   "file_extension": ".py",
   "mimetype": "text/x-python",
   "name": "python",
   "nbconvert_exporter": "python",
   "pygments_lexer": "ipython3",
   "version": "3.12.4"
  }
 },
 "nbformat": 4,
 "nbformat_minor": 2
}

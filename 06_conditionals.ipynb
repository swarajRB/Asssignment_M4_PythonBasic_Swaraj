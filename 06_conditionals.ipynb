{
 "cells": [
  {
   "cell_type": "markdown",
   "metadata": {},
   "source": [
    "# Q.6 How do conditional statements work in Python? Illustrate with examples.\n"
   ]
  },
  {
   "cell_type": "markdown",
   "metadata": {},
   "source": [
    "\n",
    "Conditionals in Python are used to execute certain pieces of code based on whether a condition is true or false.\n",
    "\n",
    " The primary conditional statements in Python are if, elif, and else.\n",
    "\n",
    " 1. if\n",
    " 2. if - else\n",
    " 3. if - elif(else if) - else\n",
    " 4. nested\n",
    "\n",
    "\n",
    "conditional statement >> help s to code decision based on the pre defined conditions\n",
    "\n",
    "ex - i will go to paly cricket if the weather is clear else i will sleep\n",
    "\n"
   ]
  },
  {
   "cell_type": "markdown",
   "metadata": {},
   "source": [
    "## 1.\"if\" statement\n",
    "The if statement allows you to execute a block of code only if a specified condition is true.\n",
    "\n"
   ]
  },
  {
   "cell_type": "code",
   "execution_count": 1,
   "metadata": {},
   "outputs": [],
   "source": [
    "\n",
    "# syntax\n",
    "\n",
    "#if the condition is true :\n",
    "    #the code will be executed"
   ]
  },
  {
   "cell_type": "code",
   "execution_count": 2,
   "metadata": {},
   "outputs": [
    {
     "name": "stdout",
     "output_type": "stream",
     "text": [
      "x is greater than 5\n"
     ]
    }
   ],
   "source": [
    "x = 10\n",
    "\n",
    "if x > 5:\n",
    "    print(\"x is greater than 5\")\n"
   ]
  },
  {
   "cell_type": "code",
   "execution_count": 3,
   "metadata": {},
   "outputs": [
    {
     "name": "stdout",
     "output_type": "stream",
     "text": [
      " You are all rounder\n"
     ]
    }
   ],
   "source": [
    "mark =90\n",
    "co_cur = True\n",
    "if (mark >= 90)and(co_cur is True):\n",
    "    print(\" You are all rounder\") "
   ]
  },
  {
   "cell_type": "markdown",
   "metadata": {},
   "source": [
    "## 2. if else - statement.\n",
    "\n",
    "The if-else statement executes one block of code if the condition is true, and another block if the condition is false."
   ]
  },
  {
   "cell_type": "code",
   "execution_count": 4,
   "metadata": {},
   "outputs": [],
   "source": [
    "# syntax\n",
    "\n",
    "# if condition: \n",
    "    # block of code to be executed if the condition is true\n",
    "# else:\n",
    "    # block of code to be executed if the condition is false "
   ]
  },
  {
   "cell_type": "code",
   "execution_count": 5,
   "metadata": {},
   "outputs": [
    {
     "name": "stdout",
     "output_type": "stream",
     "text": [
      "You are a minor.\n"
     ]
    }
   ],
   "source": [
    "age = 17\n",
    "\n",
    "if age >= 18:\n",
    "    print(\"You are an adult.\")\n",
    "else:\n",
    "    print(\"You are a minor.\")\n"
   ]
  },
  {
   "cell_type": "code",
   "execution_count": 6,
   "metadata": {},
   "outputs": [
    {
     "name": "stdout",
     "output_type": "stream",
     "text": [
      "42 is an even number.\n"
     ]
    }
   ],
   "source": [
    "num = int(input(\"Enter a number :\"))\n",
    "\n",
    "if num%2==0:\n",
    "    print(f\"{num} is an even number.\")\n",
    "else:\n",
    "    print(f\"{num} is an odd number\")"
   ]
  },
  {
   "cell_type": "markdown",
   "metadata": {},
   "source": [
    "## 3. elif statement\n",
    "In Python, elif is used in conditional statements to check multiple expressions for True and execute a block of code as soon as one of the conditions is true. \n",
    "It's a shorthand for \"else if.\""
   ]
  },
  {
   "cell_type": "code",
   "execution_count": 7,
   "metadata": {},
   "outputs": [],
   "source": [
    "#syntax\n",
    "\n",
    "#if condition1:\n",
    "    # Code to execute if condition1 is true\n",
    "#elif condition2:\n",
    "    # Code to execute if condition2 is true\n",
    "#elif condition3:\n",
    "    # Code to execute if condition3 is true\n",
    "#else:\n",
    "    # Code to execute if none of the conditions above are true\n"
   ]
  },
  {
   "cell_type": "code",
   "execution_count": 8,
   "metadata": {},
   "outputs": [
    {
     "name": "stdout",
     "output_type": "stream",
     "text": [
      "x is greater than 5 but less than or equal to 15\n"
     ]
    }
   ],
   "source": [
    "x = 10\n",
    "\n",
    "if x > 15:\n",
    "    print(\"x is greater than 15\")\n",
    "elif x > 5:\n",
    "    print(\"x is greater than 5 but less than or equal to 15\")\n",
    "else:\n",
    "    print(\"x is 5 or less\")\n"
   ]
  },
  {
   "cell_type": "code",
   "execution_count": 9,
   "metadata": {},
   "outputs": [
    {
     "name": "stdout",
     "output_type": "stream",
     "text": [
      "You are an an adult\n"
     ]
    }
   ],
   "source": [
    "age = int(input(\"Enter your age\"))\n",
    "\n",
    "if age < 18 :\n",
    "    print(\"You are a minor\")\n",
    "elif age < 65:\n",
    "    print(\"You are an an adult\")\n",
    "\n",
    "else :\n",
    "    print(\"You are a seniorcitizen\")"
   ]
  },
  {
   "cell_type": "markdown",
   "metadata": {},
   "source": [
    "## 4. Nested \"if\"\n",
    "\n",
    "\n",
    "Nested if statements in Python are if statements placed inside other if statements. \n",
    "This allows you to check for multiple conditions and execute code accordingly.\n",
    "\n",
    "Here's the syntax for nested if statements"
   ]
  },
  {
   "cell_type": "code",
   "execution_count": 10,
   "metadata": {},
   "outputs": [],
   "source": [
    "# if condition1:\n",
    "    # Code to execute if condition1 is true\n",
    "    # if condition2:\n",
    "        # Code to execute if condition1 and condition2 are true\n",
    "    # else:\n",
    "        # Code to execute if condition1 is true but condition2 is false\n",
    "# else:\n",
    "    # Code to execute if condition1 is false\n"
   ]
  },
  {
   "cell_type": "code",
   "execution_count": 11,
   "metadata": {},
   "outputs": [
    {
     "name": "stdout",
     "output_type": "stream",
     "text": [
      "Both x and y are greater than 10\n"
     ]
    }
   ],
   "source": [
    "x = 20\n",
    "y = 15\n",
    "\n",
    "if x > 10:\n",
    "    if y > 10:\n",
    "        print(\"Both x and y are greater than 10\")\n",
    "    else:\n",
    "        print(\"x is greater than 10, but y is not\")\n",
    "else:\n",
    "    print(\"x is 10 or less\")\n"
   ]
  },
  {
   "cell_type": "markdown",
   "metadata": {},
   "source": [
    "Summary\n",
    "\n",
    "if : Tests a condition; executes the block if true.\n",
    "\n",
    "elif : Tests additional conditions if the previous ones are false.\n",
    "\n",
    "else : Executes a block of code if none of the conditions are true.\n",
    "\n",
    "These constructs help control the flow of a Python program based on conditions."
   ]
  }
 ],
 "metadata": {
  "kernelspec": {
   "display_name": "Python 3",
   "language": "python",
   "name": "python3"
  },
  "language_info": {
   "codemirror_mode": {
    "name": "ipython",
    "version": 3
   },
   "file_extension": ".py",
   "mimetype": "text/x-python",
   "name": "python",
   "nbconvert_exporter": "python",
   "pygments_lexer": "ipython3",
   "version": "3.12.4"
  }
 },
 "nbformat": 4,
 "nbformat_minor": 2
}

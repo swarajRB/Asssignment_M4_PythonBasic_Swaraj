{
 "cells": [
  {
   "cell_type": "markdown",
   "metadata": {},
   "source": [
    "# Q.5 Explain the concept of type casting in Python with examples.\n",
    "\n",
    "Type casting in Python refers to the process of converting one data type into another.\n",
    "\n",
    "There are two types of type casting: \n",
    "1. implicit type casting \n",
    "2. explicit type casting.\n"
   ]
  },
  {
   "cell_type": "markdown",
   "metadata": {},
   "source": [
    "## 1. Implicit Type Casting\n",
    "\n",
    "In implicit type casting, Python automatically converts one data type to another without any user intervention. \n",
    "\n",
    "This usually happens when mixing types during an operation."
   ]
  },
  {
   "cell_type": "code",
   "execution_count": 1,
   "metadata": {},
   "outputs": [
    {
     "name": "stdout",
     "output_type": "stream",
     "text": [
      "7.5\n",
      "<class 'float'>\n"
     ]
    }
   ],
   "source": [
    "a = 5   # integer\n",
    "b = 2.5 # float\n",
    "\n",
    "c = a + b\n",
    "print(c)        # prints c as (7.5)\n",
    "print(type(c))  # print the call as <class 'float'>\n",
    "\n",
    "# \"c\" will automatically be a float\n"
   ]
  },
  {
   "cell_type": "markdown",
   "metadata": {},
   "source": [
    "## 2. Explicit Type Casting\n",
    "\n",
    "In explicit type casting, the we have to manually converts one data type to another using predefined functions like int(), float(), str(), etc."
   ]
  },
  {
   "cell_type": "code",
   "execution_count": 2,
   "metadata": {},
   "outputs": [
    {
     "name": "stdout",
     "output_type": "stream",
     "text": [
      "<class 'str'>\n",
      "<class 'int'>\n",
      "5\n"
     ]
    }
   ],
   "source": [
    "#  String to Integer:\n",
    "\n",
    "a = \"2\"\n",
    "b = 3\n",
    "print(type(a))\n",
    "# Here you can not add \"a\" with \"b\" , >> \"a\" is a string here .\n",
    "\n",
    "# we need to change tyhe type of \"a\" .\n",
    "\n",
    "a = int(a) # converting the type of \"a\" from \"str\" to \"int\" .\n",
    "print(type(a))\n",
    "print(a+b)"
   ]
  },
  {
   "cell_type": "code",
   "execution_count": 3,
   "metadata": {},
   "outputs": [
    {
     "name": "stdout",
     "output_type": "stream",
     "text": [
      "10\n",
      "<class 'str'>\n"
     ]
    }
   ],
   "source": [
    "# Integer to String :\n",
    "\n",
    "num = 10\n",
    "str_num = str(num)\n",
    "print(str_num)         # Output: '10'\n",
    "print(type(str_num))   # Output: <class 'str'>\n"
   ]
  },
  {
   "cell_type": "code",
   "execution_count": 4,
   "metadata": {},
   "outputs": [
    {
     "name": "stdout",
     "output_type": "stream",
     "text": [
      "9\n",
      "<class 'int'>\n"
     ]
    }
   ],
   "source": [
    "# Float to Integer: \n",
    "\n",
    "f = 9.99\n",
    "i = int(f)\n",
    "print(i)         # Output: 9\n",
    "print(type(i))   # Output: <class 'int'>\n"
   ]
  },
  {
   "cell_type": "code",
   "execution_count": 5,
   "metadata": {},
   "outputs": [
    {
     "name": "stdout",
     "output_type": "stream",
     "text": [
      "<class 'float'>\n",
      "7\n",
      "<class 'int'>\n",
      "<class 'int'>\n",
      "<class 'float'>\n"
     ]
    }
   ],
   "source": [
    "# Float to integer\n",
    "\n",
    "a = 7.2\n",
    "print(type(a))   #<class 'float'>\n",
    "\n",
    "\n",
    "# you can also type of floate into intiger and vice versa\n",
    "a =(int(a))\n",
    "print(a)  #print a as (7)\n",
    "print(type(a)) #<class 'int'>\n",
    "\n",
    "\n",
    "\n",
    "# integer to float\n",
    "b = 3\n",
    "print(type(b))  #<class 'int'>\n",
    "\n",
    "b = float(b)\n",
    "print(type(b))  # <class 'float'>"
   ]
  },
  {
   "cell_type": "code",
   "execution_count": 6,
   "metadata": {},
   "outputs": [
    {
     "name": "stdout",
     "output_type": "stream",
     "text": [
      "<class 'str'>\n",
      "35.3\n",
      "<class 'float'>\n"
     ]
    }
   ],
   "source": [
    "# string to float \n",
    "\n",
    "c = \" 35.3 \"\n",
    "print(type(c))\n",
    "\n",
    "c = float(c)\n",
    "print(c)\n",
    "print(type(c))\n",
    "\n",
    "# characters cant not change into integers\n",
    "## you can only change the type of string into float or integer if the string is only in the form of number in the string"
   ]
  },
  {
   "cell_type": "code",
   "execution_count": 7,
   "metadata": {},
   "outputs": [
    {
     "name": "stdout",
     "output_type": "stream",
     "text": [
      "False\n",
      "True\n",
      "True\n",
      "False\n"
     ]
    }
   ],
   "source": [
    "# bool\n",
    "print(bool(0))\n",
    "\n",
    "print(bool(1))\n",
    "print(bool(\"swaraj\"))\n",
    "\n",
    "# anything that is other than \"0\" will give true and \"0\" give false in bool type \n",
    "\n",
    "print(bool(\"\")) # it will give false because it is an empty srting means nothing means zero , zero means false"
   ]
  },
  {
   "cell_type": "markdown",
   "metadata": {},
   "source": [
    "## Why Use Type Casting \n",
    "Data compatibility: Ensuring data is in the correct format for operations (e.g., converting strings to numbers for calculations).\n",
    "\n",
    "Data processing: Converting between data types to match function requirements or optimize storage."
   ]
  }
 ],
 "metadata": {
  "kernelspec": {
   "display_name": "Python 3",
   "language": "python",
   "name": "python3"
  },
  "language_info": {
   "codemirror_mode": {
    "name": "ipython",
    "version": 3
   },
   "file_extension": ".py",
   "mimetype": "text/x-python",
   "name": "python",
   "nbconvert_exporter": "python",
   "pygments_lexer": "ipython3",
   "version": "3.12.4"
  }
 },
 "nbformat": 4,
 "nbformat_minor": 2
}

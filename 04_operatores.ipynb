{
 "cells": [
  {
   "cell_type": "markdown",
   "metadata": {},
   "source": [
    "# Q4. Discuss the different types of operators in Python and provide examples of how they are used.\n",
    "\n",
    "Operators are some keywords or symboles that are used to perform some operations or values or variables .\n",
    "Python supports several types of operators, each serving different purposes. \n"
   ]
  },
  {
   "cell_type": "markdown",
   "metadata": {},
   "source": [
    "## 1. Arithmetic Operators\n",
    "Arithmetic operators are used to perform basic mathematical operations.\n",
    "\n",
    "The arithimatic operators are\n",
    "\n",
    "Addition (+)\n",
    "\n",
    "Subtraction(-)\n",
    "\n",
    "multiplication(*)\n",
    "\n",
    "division(/)\n",
    "\n",
    "modules (%)\n",
    "\n",
    "exponential(**)"
   ]
  },
  {
   "cell_type": "code",
   "execution_count": 1,
   "metadata": {},
   "outputs": [
    {
     "name": "stdout",
     "output_type": "stream",
     "text": [
      "15\n"
     ]
    }
   ],
   "source": [
    "# Addition (+): Adds two values\n",
    "\n",
    "a = 10\n",
    "b = 5\n",
    "\n",
    "result = a + b  # result is 15\n",
    "print(result)\n",
    "\n"
   ]
  },
  {
   "cell_type": "code",
   "execution_count": 2,
   "metadata": {},
   "outputs": [
    {
     "name": "stdout",
     "output_type": "stream",
     "text": [
      "5\n"
     ]
    }
   ],
   "source": [
    "# Subtraction (-): Subtracts the second value from the first.\n",
    "\n",
    "result = a - b  # result is 5\n",
    "print(result)\n"
   ]
  },
  {
   "cell_type": "code",
   "execution_count": 3,
   "metadata": {},
   "outputs": [
    {
     "name": "stdout",
     "output_type": "stream",
     "text": [
      "50\n"
     ]
    }
   ],
   "source": [
    "#  Multiplication (*): Multiplies two values\n",
    "\n",
    "print(a*b)  # result is 50\n"
   ]
  },
  {
   "cell_type": "code",
   "execution_count": 4,
   "metadata": {},
   "outputs": [
    {
     "name": "stdout",
     "output_type": "stream",
     "text": [
      "2.0\n"
     ]
    }
   ],
   "source": [
    "# Division (/): Divides the first value by the second.\n",
    "\n",
    "result = a / b  # result is 2.0\n",
    "print(result)"
   ]
  },
  {
   "cell_type": "code",
   "execution_count": 5,
   "metadata": {},
   "outputs": [
    {
     "name": "stdout",
     "output_type": "stream",
     "text": [
      "0\n"
     ]
    }
   ],
   "source": [
    "# Modulus (%): Returns the remainder when the first value is divided by the second.\n",
    "\n",
    "result = a % b  # result is 0\n",
    "print (result)"
   ]
  },
  {
   "cell_type": "code",
   "execution_count": 6,
   "metadata": {},
   "outputs": [
    {
     "name": "stdout",
     "output_type": "stream",
     "text": [
      "100000\n"
     ]
    }
   ],
   "source": [
    "# Exponentiation (**): Raises the first value to the power of the second.\n",
    "\n",
    "result = a ** b  # result is 100000\n",
    "print (result)"
   ]
  },
  {
   "cell_type": "code",
   "execution_count": 7,
   "metadata": {},
   "outputs": [
    {
     "name": "stdout",
     "output_type": "stream",
     "text": [
      "2\n"
     ]
    }
   ],
   "source": [
    "# Floor Division (//): Divides the first value by the second and rounds down to the nearest integer.\n",
    "\n",
    "\n",
    "result = a // b  # result is 2\n",
    "print (result)\n"
   ]
  },
  {
   "cell_type": "markdown",
   "metadata": {},
   "source": [
    "## 2. Comparison Operators\n",
    "\n",
    "Comparison operators compare two values and return a Boolean (True or False).\n",
    "\n",
    "#comparision operaters >> compare two values >> Returns a boolean value\n",
    "\n",
    "\n",
    "Python has six comparison operators:\n",
    "\n",
    "== (Equal to): Checks if two values are equal.\n",
    "\n",
    "!= (Not equal to): Checks if two values are not equal.\n",
    "\n",
    "\">\" (Greater than): Checks if the left value is greater than the right value.\n",
    "\n",
    "< (Less than): Checks if the left value is less than the right value.\n",
    "\n",
    "\">=\" (Greater than or equal to): Checks if the left value is greater than or equal to the right value.\n",
    "\n",
    "<= (Less than or equal to): Checks if the left value is less than or equal to the right value. \n"
   ]
  },
  {
   "cell_type": "code",
   "execution_count": 8,
   "metadata": {},
   "outputs": [
    {
     "name": "stdout",
     "output_type": "stream",
     "text": [
      "False\n"
     ]
    }
   ],
   "source": [
    "# Equal to (==): Checks if two values are equal.\n",
    "\n",
    "result = (a == b)  # result is False\n",
    "print(result)"
   ]
  },
  {
   "cell_type": "code",
   "execution_count": 9,
   "metadata": {},
   "outputs": [
    {
     "name": "stdout",
     "output_type": "stream",
     "text": [
      "True\n"
     ]
    }
   ],
   "source": [
    "# Not equal to (!=): Checks if two values are not equal.\n",
    "\n",
    "result = (a != b)  # result is True\n",
    "print(result)\n"
   ]
  },
  {
   "cell_type": "code",
   "execution_count": 10,
   "metadata": {},
   "outputs": [
    {
     "name": "stdout",
     "output_type": "stream",
     "text": [
      "True\n"
     ]
    }
   ],
   "source": [
    "# Greater than (>): Checks if the first value is greater than the second.\n",
    "print(a > b)  # result is True\n"
   ]
  },
  {
   "cell_type": "code",
   "execution_count": 11,
   "metadata": {},
   "outputs": [
    {
     "data": {
      "text/plain": [
       "False"
      ]
     },
     "execution_count": 11,
     "metadata": {},
     "output_type": "execute_result"
    }
   ],
   "source": [
    "# Less than (<): Checks if the first value is less than the second.\n",
    "(a < b)  # result is False\n"
   ]
  },
  {
   "cell_type": "code",
   "execution_count": 12,
   "metadata": {},
   "outputs": [
    {
     "name": "stdout",
     "output_type": "stream",
     "text": [
      "True\n"
     ]
    }
   ],
   "source": [
    "# Greater than or equal to (>=): Checks if the first value is greater than or equal to the second.\n",
    "\n",
    "print(a >= b)  # result is True\n"
   ]
  },
  {
   "cell_type": "code",
   "execution_count": 13,
   "metadata": {},
   "outputs": [
    {
     "name": "stdout",
     "output_type": "stream",
     "text": [
      "False\n"
     ]
    }
   ],
   "source": [
    "# Less than or equal to (<=): Checks if the first value is less than or equal to the second.\n",
    "\n",
    "print(a <= b)  # result is False\n"
   ]
  },
  {
   "cell_type": "markdown",
   "metadata": {},
   "source": [
    "## 3. Logical Operators\n",
    "\n",
    "Logical operators are used to combine conditional statements. (\"and\", \"or\")\n",
    "\n"
   ]
  },
  {
   "cell_type": "code",
   "execution_count": 14,
   "metadata": {},
   "outputs": [
    {
     "name": "stdout",
     "output_type": "stream",
     "text": [
      "True\n",
      "True and False is  False\n",
      "True and True is  True\n",
      "False and True is  False\n",
      "False and False is  False\n"
     ]
    }
   ],
   "source": [
    "# \"and\": Returns True if both statements are true.\n",
    "\n",
    "print(a > 5 and b < 10)  # result is True\n",
    "\n",
    "# Truth table of 'and' \n",
    "print(\"True and False is \", True and False)\n",
    "print(\"True and True is \", True and True)\n",
    "print(\"False and True is \", False and True)\n",
    "print(\"False and False is \", False and False)\n",
    "\n",
    "\n"
   ]
  },
  {
   "cell_type": "code",
   "execution_count": 15,
   "metadata": {},
   "outputs": [
    {
     "name": "stdout",
     "output_type": "stream",
     "text": [
      "True\n",
      "True or False is  True\n",
      "True or True is  True\n",
      "False or True is  True\n",
      "False or False is  False\n"
     ]
    }
   ],
   "source": [
    "# \"or\": Returns True if at least one of the statements is true.\n",
    "\n",
    "\n",
    "print(a > 5 or b > 10)  # result is True\n",
    "\n",
    "\n",
    "# Truth table of 'or' \n",
    "print(\"True or False is \", True or False)\n",
    "print(\"True or True is \", True or True)\n",
    "print(\"False or True is \", False or True)\n",
    "print(\"False or False is \", False or False)\n",
    "\n",
    "\n",
    "\n",
    "\n",
    "\n"
   ]
  },
  {
   "cell_type": "code",
   "execution_count": 16,
   "metadata": {},
   "outputs": [
    {
     "name": "stdout",
     "output_type": "stream",
     "text": [
      "False\n"
     ]
    }
   ],
   "source": [
    "# not: Returns True if the statement is false.\n",
    "\n",
    "print(not(True))  # result is False\n"
   ]
  },
  {
   "cell_type": "markdown",
   "metadata": {},
   "source": [
    "## 5.Assignment Operators\n",
    "\n",
    "Assignment operators are used to assign values to variables.\n",
    "\n"
   ]
  },
  {
   "cell_type": "code",
   "execution_count": 17,
   "metadata": {},
   "outputs": [
    {
     "data": {
      "text/plain": [
       "7"
      ]
     },
     "execution_count": 17,
     "metadata": {},
     "output_type": "execute_result"
    }
   ],
   "source": [
    "a = 4 # add and assign operators\n",
    "a +=  3 # euivalent to a = a + 3\n",
    "a"
   ]
  },
  {
   "cell_type": "code",
   "execution_count": 18,
   "metadata": {},
   "outputs": [
    {
     "data": {
      "text/plain": [
       "3"
      ]
     },
     "execution_count": 18,
     "metadata": {},
     "output_type": "execute_result"
    }
   ],
   "source": [
    "a = 4 # Subtract and Assign Operator\n",
    "\n",
    "a-=1 # equivalent to a = a - 2\n",
    "a"
   ]
  },
  {
   "cell_type": "code",
   "execution_count": 19,
   "metadata": {},
   "outputs": [
    {
     "data": {
      "text/plain": [
       "21"
      ]
     },
     "execution_count": 19,
     "metadata": {},
     "output_type": "execute_result"
    }
   ],
   "source": [
    "# multiply and assign  opwrators \n",
    "\n",
    "a = 7\n",
    "\n",
    "a *= 3 #euivalent to a = a * 3\n",
    "a "
   ]
  },
  {
   "cell_type": "code",
   "execution_count": 20,
   "metadata": {},
   "outputs": [
    {
     "data": {
      "text/plain": [
       "7.0"
      ]
     },
     "execution_count": 20,
     "metadata": {},
     "output_type": "execute_result"
    }
   ],
   "source": [
    "# devide and assign operator\n",
    "a = 21\n",
    "a /= 3 #equivalent to a = a / 3\n",
    "a"
   ]
  },
  {
   "cell_type": "markdown",
   "metadata": {},
   "source": [
    "## 6. Membership operetors\n",
    "\n",
    "Membership operators in Python are used to test whether a value is found in a sequence, such as a string, list, tuple, set, or dictionary. \n",
    "\n",
    "There are two membership operators in \n",
    "\n",
    "(in) return true if the value is found in the sequence other wise it return false\n",
    "\n",
    "( not in ) reurn true if the value isnot found in the sequence"
   ]
  },
  {
   "cell_type": "code",
   "execution_count": 21,
   "metadata": {},
   "outputs": [
    {
     "name": "stdout",
     "output_type": "stream",
     "text": [
      "True\n"
     ]
    }
   ],
   "source": [
    "name = \"Swaraj\"\n",
    "print( \"S\" in name) #print true"
   ]
  },
  {
   "cell_type": "code",
   "execution_count": 22,
   "metadata": {},
   "outputs": [
    {
     "name": "stdout",
     "output_type": "stream",
     "text": [
      "True\n"
     ]
    }
   ],
   "source": [
    "a = \"raj\"\n",
    "print(\"ra\" in a) #print True"
   ]
  },
  {
   "cell_type": "code",
   "execution_count": 23,
   "metadata": {},
   "outputs": [
    {
     "name": "stdout",
     "output_type": "stream",
     "text": [
      "True\n",
      "True\n",
      "True\n"
     ]
    }
   ],
   "source": [
    "# in \n",
    "# List\n",
    "fruits = [\"apple\", \"banana\", \"cherry\"]\n",
    "print(\"banana\" in fruits)  # Output: True\n",
    "\n",
    "# String\n",
    "text = \"Hello, world!\"\n",
    "print(\"world\" in text)  # Output: True\n",
    "\n",
    "# Dictionary\n",
    "student_grades = {\"John\": \"A\", \"Jane\": \"B\"}\n",
    "print(\"John\" in student_grades)  # Output: True\n"
   ]
  },
  {
   "cell_type": "code",
   "execution_count": 24,
   "metadata": {},
   "outputs": [
    {
     "name": "stdout",
     "output_type": "stream",
     "text": [
      "True\n",
      "True\n",
      "True\n"
     ]
    }
   ],
   "source": [
    "# not in \n",
    "\n",
    "\n",
    "# List\n",
    "fruits = [\"apple\", \"banana\", \"cherry\"]\n",
    "print(\"grape\" not in fruits)  # Output: True\n",
    "\n",
    "# String\n",
    "text = \"Hello, world!\"\n",
    "print(\"Python\" not in text)  # Output: True\n",
    "\n",
    "# Dictionary\n",
    "student_grades = {\"John\": \"A\", \"Jane\": \"B\"}\n",
    "print(\"Mike\" not in student_grades)  # Output: True\n"
   ]
  },
  {
   "cell_type": "markdown",
   "metadata": {},
   "source": [
    "## 7. identity operetors\n",
    "\n",
    "two types \" is \", \" is not\"\n",
    "\n",
    "identity operators >>compares the memory location>> two variable\n"
   ]
  },
  {
   "cell_type": "code",
   "execution_count": 25,
   "metadata": {},
   "outputs": [
    {
     "name": "stdout",
     "output_type": "stream",
     "text": [
      "False\n",
      "True\n"
     ]
    }
   ],
   "source": [
    "a=1\n",
    "b=5\n",
    "\n",
    "print(a is b) # returns false because a and b are diffrent memory location\n",
    "\n",
    "print(a is not b) # returns true because a and b are diffrent memory location\n"
   ]
  },
  {
   "cell_type": "code",
   "execution_count": 26,
   "metadata": {},
   "outputs": [
    {
     "name": "stdout",
     "output_type": "stream",
     "text": [
      "True\n",
      "False\n"
     ]
    }
   ],
   "source": [
    "# Comparing identical objects by : is\n",
    "a = [1, 2, 3]\n",
    "b = a\n",
    "print(a is b)  # Output: True, because both 'a' and 'b' point to the same list object\n",
    "\n",
    "# Comparing different objects with the same content\n",
    "c = [1, 2, 3]\n",
    "print(a is c)  # Output: False, because 'a' and 'c' are different objects in memory\n"
   ]
  },
  {
   "cell_type": "code",
   "execution_count": 27,
   "metadata": {},
   "outputs": [
    {
     "name": "stdout",
     "output_type": "stream",
     "text": [
      "False\n",
      "True\n"
     ]
    }
   ],
   "source": [
    "# Comparing identical objects by > \" is not \"\n",
    "a = [1, 2, 3]\n",
    "b = a\n",
    "print(a is not b)  # Output: False, because both 'a' and 'b' point to the same list object\n",
    "\n",
    "# Comparing different objects with the same content\n",
    "c = [1, 2, 3]\n",
    "print(a is not c)  # Output: True, because 'a' and 'c' are different objects in memory\n"
   ]
  },
  {
   "cell_type": "markdown",
   "metadata": {},
   "source": [
    "## 8.Bitwise operation\n",
    "\n",
    "Bitwise operations in Python are used to perform operations on binary representations of integers. These operations work directly on the bits of the numbers. The main bitwise operators in Python are:\n",
    "\n",
    "AND (&): Sets each bit to 1 if both bits are 1.\n",
    "\n",
    "OR (|): Sets each bit to 1 if one of two bits is 1.\n",
    "\n",
    "\n",
    "XOR (^): Sets each bit to 1 if only one of two bits is 1.\n",
    "\n",
    "NOT (~): Inverts all the bits.\n",
    "\n",
    "Left Shift (<<): Shifts bits to the left by the specified number of positions.\n",
    "\n",
    "Right Shift (>>): Shifts bits to the right by the specified number of positions\n"
   ]
  },
  {
   "cell_type": "code",
   "execution_count": 28,
   "metadata": {},
   "outputs": [
    {
     "name": "stdout",
     "output_type": "stream",
     "text": [
      "1\n",
      "7\n"
     ]
    }
   ],
   "source": [
    "a = 5    # 0b0101\n",
    "b = 3    # 0b0011\n",
    "result = a & b  # 0b0001\n",
    "print(result)  # Output: 1\n",
    "\n",
    "\n",
    "\n",
    "a = 5    # 0b0101\n",
    "b = 3    # 0b0011\n",
    "result = a | b  # 0b0111\n",
    "print(result)  # Output: 7\n"
   ]
  },
  {
   "cell_type": "code",
   "execution_count": 29,
   "metadata": {},
   "outputs": [
    {
     "name": "stdout",
     "output_type": "stream",
     "text": [
      "-6\n"
     ]
    }
   ],
   "source": [
    "a = 5    # 0b0101\n",
    "result = ~a     # 0b1010 (2's complement)\n",
    "print(result)   # Output: -6\n"
   ]
  },
  {
   "cell_type": "code",
   "execution_count": 30,
   "metadata": {},
   "outputs": [
    {
     "name": "stdout",
     "output_type": "stream",
     "text": [
      "6\n"
     ]
    }
   ],
   "source": [
    "# xor ^\n",
    "\n",
    "a = 5    # 0b0101\n",
    "b = 3    # 0b0011\n",
    "result = a ^ b  # 0b0110\n",
    "print(result)  # Output: 6\n"
   ]
  },
  {
   "cell_type": "code",
   "execution_count": 31,
   "metadata": {},
   "outputs": [
    {
     "name": "stdout",
     "output_type": "stream",
     "text": [
      "10\n",
      "2\n"
     ]
    }
   ],
   "source": [
    "#Left Shift (<<)\n",
    "a = 5    # 0b0101\n",
    "result = a << 1  # 0b1010\n",
    "print(result)    # Output: 10\n",
    "\n",
    "\n",
    "\n",
    "# Right Shift (>>)\n",
    "\n",
    "a = 5    # 0b0101\n",
    "result = a >> 1  # 0b0010\n",
    "print(result)    # Output: 2\n"
   ]
  }
 ],
 "metadata": {
  "kernelspec": {
   "display_name": "Python 3",
   "language": "python",
   "name": "python3"
  },
  "language_info": {
   "codemirror_mode": {
    "name": "ipython",
    "version": 3
   },
   "file_extension": ".py",
   "mimetype": "text/x-python",
   "name": "python",
   "nbconvert_exporter": "python",
   "pygments_lexer": "ipython3",
   "version": "3.12.4"
  }
 },
 "nbformat": 4,
 "nbformat_minor": 2
}

{
 "cells": [
  {
   "cell_type": "markdown",
   "metadata": {},
   "source": [
    "# Q.3 Compare and contrast mutable and immutable objects in Python with examples ."
   ]
  },
  {
   "cell_type": "markdown",
   "metadata": {},
   "source": [
    "In Python, objects can be categorized as either mutable or immutable based on whether their state or content can be changed after creation. \n",
    "\n",
    "Here's a comparison of the two with examples:"
   ]
  },
  {
   "cell_type": "markdown",
   "metadata": {},
   "source": [
    "## 1. Mutable Objects :\n",
    "\n",
    "Mutable objects can be modified after they are created. This means you can change their state, add or remove elements, or alter their contents without creating a new object.\n",
    "\n",
    "Examples:\n",
    "Lists, dictionaries, sets."
   ]
  },
  {
   "cell_type": "markdown",
   "metadata": {},
   "source": [
    "Advantages:\n",
    "Efficient for operations like appending or removing elements, as they modify the object in place without creating a new one.\n",
    "\n",
    "\n",
    "Disadvantages:\n",
    "Can lead to unexpected behavior if multiple references point to the same mutable object, as changes made through one reference affect all."
   ]
  },
  {
   "cell_type": "code",
   "execution_count": 2,
   "metadata": {},
   "outputs": [
    {
     "name": "stdout",
     "output_type": "stream",
     "text": [
      "[1, 2, 3, 4]\n"
     ]
    }
   ],
   "source": [
    "# Example of list with adding an element\n",
    "\n",
    "my_list = [1, 2, 3]\n",
    "my_list.append(4)  # add an element the list in-place\n",
    "print(my_list)     # Output will be [1, 2, 3, 4]\n"
   ]
  },
  {
   "cell_type": "code",
   "execution_count": 1,
   "metadata": {},
   "outputs": [
    {
     "name": "stdout",
     "output_type": "stream",
     "text": [
      "{'a': 1, 'b': 2, 'c': 3}\n"
     ]
    }
   ],
   "source": [
    "# Example of dictonary with adding another key value pair\n",
    "\n",
    "my_dict = {'a': 1, 'b': 2}\n",
    "my_dict['c'] = 3  # function to add a key value pair the dictionary in-place\n",
    "print(my_dict)   # Output will be{'a': 1, 'b': 2, 'c': 3}\n"
   ]
  },
  {
   "cell_type": "code",
   "execution_count": 3,
   "metadata": {},
   "outputs": [
    {
     "name": "stdout",
     "output_type": "stream",
     "text": [
      "{1, 2, 3, 4}\n"
     ]
    }
   ],
   "source": [
    "# Example of a set will adding another element\n",
    "\n",
    "my_set = {1, 2, 3}\n",
    "my_set.add(4)   # Modifies the set in-place\n",
    "print(my_set)   # Output will show {1, 2, 3, 4}\n"
   ]
  },
  {
   "cell_type": "markdown",
   "metadata": {},
   "source": [
    "## 2. Immutable Objects \n",
    "\n",
    "Immutable objects cannot be changed after their creation. Any operation that tries to modify an immutable object will result in the creation of a newobject.\n",
    "\n",
    "\n",
    "Examples:\n",
    "Numbers (int, float), strings, tuples.\n"
   ]
  },
  {
   "cell_type": "markdown",
   "metadata": {},
   "source": [
    "Advantages:\n",
    "Thread-safe, as their state cannot be changed, eliminating the risk of race conditions. Easier to reason about and debug, as their values remain constant.\n",
    "\n",
    "Disadvantages:\n",
    "Less efficient for operations that require frequent updates, as each change creates a new object."
   ]
  },
  {
   "cell_type": "code",
   "execution_count": 4,
   "metadata": {},
   "outputs": [
    {
     "name": "stdout",
     "output_type": "stream",
     "text": [
      "11\n"
     ]
    }
   ],
   "source": [
    "# Example of Integer and Floats\n",
    "\n",
    "my_int = 10\n",
    "my_int += 1  # Creates a new integer object\n",
    "print(my_int)  # Output: 11\n"
   ]
  },
  {
   "cell_type": "code",
   "execution_count": 5,
   "metadata": {},
   "outputs": [
    {
     "name": "stdout",
     "output_type": "stream",
     "text": [
      "jello\n",
      "hello\n"
     ]
    }
   ],
   "source": [
    "# Example of string \n",
    "\n",
    "my_string = \"hello\"\n",
    "new_string = my_string.replace(\"h\", \"j\")  # Creates a new string\n",
    "print(new_string)  # Output: \"jello\"\n",
    "print(my_string)   # Output: \"hello\" (unchanged)\n"
   ]
  },
  {
   "cell_type": "code",
   "execution_count": 6,
   "metadata": {},
   "outputs": [
    {
     "name": "stdout",
     "output_type": "stream",
     "text": [
      "(1, 2, 3)\n"
     ]
    }
   ],
   "source": [
    "# Example of Tuples\n",
    "\n",
    "my_tuple = (1, 2, 3)\n",
    "# my_tuple[1] = 4  # This will throw an error\n",
    "print(my_tuple)  # Output: (1, 2, 3)\n"
   ]
  }
 ],
 "metadata": {
  "kernelspec": {
   "display_name": "Python 3",
   "language": "python",
   "name": "python3"
  },
  "language_info": {
   "codemirror_mode": {
    "name": "ipython",
    "version": 3
   },
   "file_extension": ".py",
   "mimetype": "text/x-python",
   "name": "python",
   "nbconvert_exporter": "python",
   "pygments_lexer": "ipython3",
   "version": "3.12.4"
  }
 },
 "nbformat": 4,
 "nbformat_minor": 2
}

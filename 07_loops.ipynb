{
 "cells": [
  {
   "cell_type": "markdown",
   "metadata": {},
   "source": [
    "# Q.7 Describe the different types of loops in Python and their use cases with examples."
   ]
  },
  {
   "cell_type": "markdown",
   "metadata": {},
   "source": [
    "In Python, loops are used to repeat a block of code multiple times. \n",
    "\n",
    "Python provides two primary types of loops: \"for\" loops and \"while\" loops. Each type of loop is suited for different scenarios depending on the condition that controls the loop."
   ]
  },
  {
   "cell_type": "markdown",
   "metadata": {},
   "source": [
    "## 1.\"for\" loop\n",
    "\n",
    "The for loop in Python is used to iterate over a sequence (such as a list, tuple, string, or range) and execute a block of code for each element in the sequence."
   ]
  },
  {
   "cell_type": "code",
   "execution_count": 1,
   "metadata": {},
   "outputs": [
    {
     "name": "stdout",
     "output_type": "stream",
     "text": [
      "s\n",
      "w\n",
      "a\n",
      "r\n",
      "a\n",
      "j\n"
     ]
    }
   ],
   "source": [
    "#  Iterating Over a String\n",
    "\n",
    "name = \"swaraj\"\n",
    "for letter in name :\n",
    "    print (letter)\n",
    "\n",
    "# The loop iterates over each character in the string \"name\".\n",
    "# The variable letter represents each character, and the print(letter) statement outputs each character on a new line.\n"
   ]
  },
  {
   "cell_type": "code",
   "execution_count": 2,
   "metadata": {},
   "outputs": [
    {
     "name": "stdout",
     "output_type": "stream",
     "text": [
      "swaraj\n",
      "False\n",
      "1\n",
      "ram\n"
     ]
    }
   ],
   "source": [
    "# Iterating Over a List\n",
    "\n",
    "list = [\"swaraj\" , \"False\", 1, \"ram\"]\n",
    "for element in list:\n",
    "    print(element)\n",
    "\n",
    "\n",
    "# The for loop iterates over each item in the list.\n",
    "# The variable elemrnt takes the value of each item in the list one by one.\n",
    "# The print(element) statement is executed for each item, printing the name of the fruit."
   ]
  },
  {
   "cell_type": "code",
   "execution_count": 3,
   "metadata": {},
   "outputs": [
    {
     "name": "stdout",
     "output_type": "stream",
     "text": [
      "0\n",
      "1\n",
      "2\n",
      "3\n",
      "4\n"
     ]
    }
   ],
   "source": [
    "# Using range() with for Loop\n",
    "\n",
    "for i in range(5):\n",
    "    print(i)\n",
    "\n",
    "# range(5) generates numbers from 0 to 4.\n",
    "# The loop iterates over these numbers, and i takes each value in turn.\n",
    "# The print(i) statement outputs each number."
   ]
  },
  {
   "cell_type": "code",
   "execution_count": 4,
   "metadata": {},
   "outputs": [
    {
     "name": "stdout",
     "output_type": "stream",
     "text": [
      "swaraj\n",
      "False\n"
     ]
    }
   ],
   "source": [
    "# break statement i for loop\n",
    "l = [\"swaraj\" , \"False\", 1, \"ram\"]\n",
    "\n",
    "for i in l:\n",
    "    if i == 1:\n",
    "        break\n",
    "    print(i)\n",
    "else:\n",
    "    print(\"This will be executed\")\n"
   ]
  },
  {
   "cell_type": "code",
   "execution_count": 5,
   "metadata": {},
   "outputs": [
    {
     "name": "stdout",
     "output_type": "stream",
     "text": [
      "swaraj\n",
      "False\n",
      "1\n",
      "this will be executed\n"
     ]
    }
   ],
   "source": [
    "# continue statement if for loop\n",
    "for i in l :\n",
    "    if i==\"ram\":\n",
    "        continue\n",
    "    print(i)\n",
    "else:\n",
    "    print(\"this will be executed\")"
   ]
  },
  {
   "cell_type": "markdown",
   "metadata": {},
   "source": [
    "## 2.\"while\" loop\n",
    "\n",
    "A while loop in Python repeatedly executes a block of code as long as a specified condition is True. \n",
    "\n",
    "Once the condition becomes False, the loop stops."
   ]
  },
  {
   "cell_type": "code",
   "execution_count": 6,
   "metadata": {},
   "outputs": [],
   "source": [
    "# syntax \n",
    "\n",
    "#while condition:\n",
    "    # Code to execute\n"
   ]
  },
  {
   "cell_type": "code",
   "execution_count": 7,
   "metadata": {},
   "outputs": [
    {
     "name": "stdout",
     "output_type": "stream",
     "text": [
      "Count is: 1\n",
      "Count is: 2\n",
      "Count is: 3\n",
      "Count is: 4\n",
      "Count is: 5\n"
     ]
    }
   ],
   "source": [
    "# Counting Loop \n",
    "# et's consider a simple example where we use a while loop to count from 1 to 5.\n",
    "\n",
    "count = 1\n",
    "\n",
    "while count <= 5:\n",
    "    print(\"Count is:\", count)\n",
    "    count += 1\n"
   ]
  },
  {
   "cell_type": "code",
   "execution_count": 8,
   "metadata": {},
   "outputs": [
    {
     "name": "stdout",
     "output_type": "stream",
     "text": [
      "1\n",
      "2\n",
      "3\n",
      "4\n",
      "5\n",
      "6\n",
      "This wil be exeuted when the block will break\n"
     ]
    }
   ],
   "source": [
    "# nested \n",
    "\n",
    "n = 7 \n",
    "i = 1\n",
    "while  i < n :\n",
    "    print(i)\n",
    "    i =i+1\n",
    "else:\n",
    "    print(\"This wil be exeuted when the block will break\")"
   ]
  },
  {
   "cell_type": "code",
   "execution_count": 9,
   "metadata": {},
   "outputs": [
    {
     "name": "stdout",
     "output_type": "stream",
     "text": [
      "1\n",
      "2\n",
      "3\n"
     ]
    }
   ],
   "source": [
    "# break terminte/exits the loop \n",
    "# The condition will met will break the loop \n",
    "\n",
    "n= 7 \n",
    "i = 1\n",
    "while  i < n :\n",
    "    print(i)\n",
    "    i =i+1\n",
    "    if i == 4:\n",
    "        break\n",
    "else:\n",
    "    print(\"This wil be exeuted when the block will break\")"
   ]
  },
  {
   "cell_type": "code",
   "execution_count": 10,
   "metadata": {},
   "outputs": [
    {
     "name": "stdout",
     "output_type": "stream",
     "text": [
      "2\n",
      "4\n",
      "5\n",
      "6\n",
      "7\n",
      "This code will be executed when the while is running sucessfully without any break\n"
     ]
    }
   ],
   "source": [
    "# Contineu >> skips the \n",
    "\n",
    "\n",
    "n = 7\n",
    "i = 1\n",
    "while i < n:\n",
    "    i = i+1\n",
    "    if i==3:\n",
    "        continue\n",
    "    print(i)\n",
    "else:\n",
    "    print(\"This code will be executed when the while is running sucessfully without any break\")"
   ]
  },
  {
   "cell_type": "markdown",
   "metadata": {},
   "source": [
    "Summary\n",
    "\n",
    "for Loop: Best for iterating over sequences with a known number of iterations.\n",
    "\n",
    "while Loop: Ideal for repeating code while a condition is true, especially the number of iterations is unknown.\n",
    "\n",
    "Nested Loops: Useful for working with multi-dimensional data.\n",
    "\n",
    "Loop Control Statements: Modify the behavior of loops (break, continue, pass)."
   ]
  }
 ],
 "metadata": {
  "kernelspec": {
   "display_name": "Python 3",
   "language": "python",
   "name": "python3"
  },
  "language_info": {
   "codemirror_mode": {
    "name": "ipython",
    "version": 3
   },
   "file_extension": ".py",
   "mimetype": "text/x-python",
   "name": "python",
   "nbconvert_exporter": "python",
   "pygments_lexer": "ipython3",
   "version": "3.12.4"
  }
 },
 "nbformat": 4,
 "nbformat_minor": 2
}
